{
 "cells": [
  {
   "cell_type": "markdown",
   "metadata": {},
   "source": [
    "## Task 2 "
   ]
  },
  {
   "cell_type": "code",
   "execution_count": 2,
   "metadata": {},
   "outputs": [
    {
     "ename": "ImportError",
     "evalue": "cannot import name 'DeckOfCards' from 'deck' (/Users/joseguzman/Library/Python/3.11/lib/python/site-packages/deck.py)",
     "output_type": "error",
     "traceback": [
      "\u001b[0;31m---------------------------------------------------------------------------\u001b[0m",
      "\u001b[0;31mImportError\u001b[0m                               Traceback (most recent call last)",
      "\u001b[1;32m/Users/joseguzman/Library/CloudStorage/OneDrive-nwmissouri.edu/Fall1/CSIS_44608/Mod 7/Assignments/datafun-07-ml-predictive/task2.ipynb Cell 2\u001b[0m line \u001b[0;36m1\n\u001b[0;32m----> <a href='vscode-notebook-cell:/Users/joseguzman/Library/CloudStorage/OneDrive-nwmissouri.edu/Fall1/CSIS_44608/Mod%207/Assignments/datafun-07-ml-predictive/task2.ipynb#W1sZmlsZQ%3D%3D?line=0'>1</a>\u001b[0m \u001b[39mfrom\u001b[39;00m \u001b[39mdeck\u001b[39;00m \u001b[39mimport\u001b[39;00m DeckOfCards\n\u001b[1;32m      <a href='vscode-notebook-cell:/Users/joseguzman/Library/CloudStorage/OneDrive-nwmissouri.edu/Fall1/CSIS_44608/Mod%207/Assignments/datafun-07-ml-predictive/task2.ipynb#W1sZmlsZQ%3D%3D?line=1'>2</a>\u001b[0m deck_of_cards \u001b[39m=\u001b[39m DeckOfCards\n\u001b[1;32m      <a href='vscode-notebook-cell:/Users/joseguzman/Library/CloudStorage/OneDrive-nwmissouri.edu/Fall1/CSIS_44608/Mod%207/Assignments/datafun-07-ml-predictive/task2.ipynb#W1sZmlsZQ%3D%3D?line=3'>4</a>\u001b[0m \u001b[39mprint\u001b[39m(deck_of_cards)\n",
      "\u001b[0;31mImportError\u001b[0m: cannot import name 'DeckOfCards' from 'deck' (/Users/joseguzman/Library/Python/3.11/lib/python/site-packages/deck.py)"
     ]
    }
   ],
   "source": [
    "from deck import DeckOfCards\n",
    "deck_of_cards = DeckOfCards\n",
    "\n",
    "print(deck_of_cards)\n"
   ]
  },
  {
   "cell_type": "code",
   "execution_count": null,
   "metadata": {},
   "outputs": [],
   "source": []
  },
  {
   "cell_type": "code",
   "execution_count": null,
   "metadata": {},
   "outputs": [],
   "source": []
  }
 ],
 "metadata": {
  "kernelspec": {
   "display_name": "Python (.venv)",
   "language": "python",
   "name": ".venv"
  },
  "language_info": {
   "codemirror_mode": {
    "name": "ipython",
    "version": 3
   },
   "file_extension": ".py",
   "mimetype": "text/x-python",
   "name": "python",
   "nbconvert_exporter": "python",
   "pygments_lexer": "ipython3",
   "version": "3.11.4"
  },
  "orig_nbformat": 4
 },
 "nbformat": 4,
 "nbformat_minor": 2
}
